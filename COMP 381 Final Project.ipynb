{
 "cells": [
  {
   "cell_type": "markdown",
   "metadata": {},
   "source": [
    "# COMP 381 Final Project\n",
    "Henry Nguyen\n",
    "June 19 2018\n",
    "\n",
    "## Dataset\n",
    "### Mobile App Store statistics (Apple iOS)\n",
    "> I will be using a dataset containing statistics from Apple's iOS store.\n",
    "<br> Link: [Apple app store data set](https://www.kaggle.com/ramamet4/app-store-apple-data-set-10k-apps/version/5)\n",
    "\n",
    "> Some machine learning tasks I plan to apply to the data are:\n",
    " * Cross fold validation to evaluate predictive models.\n",
    " * Lasso as regularization method and feature subset selection.\n",
    " * Univariate linear regression and multivariate linear regression to see some general trends.\n",
    " * Evaluation metrics: confusion matrix and/or area under curve for classification; MSE or R^2 for regression.\n",
    " "
   ]
  },
  {
   "cell_type": "markdown",
   "metadata": {},
   "source": [
    "1. <a href='#Introduction'>Introduction</a>\n",
    "<br><br>\n",
    "2. <a href='#Import'>Imported Libraries</a>\n",
    "<br><br>\n",
    "3. <a href='#Data'>Exploring the dataset</a>\n",
    "    * <a href='#Loading'>Loading and summarizing the dataset</a>\n",
    "    * <a href='#Describe'>Count, mean, std, minimum, maximum, and percentiles </a>\n",
    "    * <a href='#Sets'>Training and Test sets</a>\n",
    "    <br><br>\n",
    "4. <a href='#Regression'>Regression</a>\n",
    "    * <a href='#Univariate'>Univariate Linear Regression</a>\n",
    "    * <a href='#Multivariate'>Multivariate Linear Regression</a>\n",
    "    <br><br>\n",
    "5. <a href='#Feature'>Feature Selection</a>\n",
    "    * <a href='#Subset'>Feature Subset Selection</a>\n",
    "    * <a href='#Lasso'>Least Absolute Shrinkage and Selection Operator</a>\n",
    "     <br><br>\n",
    "6. <a href='#Conclusion'>Conclusion</a>"
   ]
  },
  {
   "cell_type": "markdown",
   "metadata": {},
   "source": [
    "<a id='Introduction'></a>\n",
    "## Introduction\n",
    "\n",
    "<p> \"The ever-changing mobile landscape is a challenging space to navigate. . The percentage of mobile over desktop is only increasing. Android holds about 53.2% of the smartphone market, while iOS is 43%. To get more people to download your app, you need to make sure they can easily find your app. Mobile app analytics is a great way to understand the existing strategy to drive growth and retention of future user.\n",
    "\n",
    "With million of apps around nowadays, the following data set has become very key to getting top trending apps in iOS app store. This data set contains more than 7000 Apple iOS mobile application details. The data was extracted from the iTunes Search API at the Apple Inc website. R and linux web scraping tools were used for this study.\n",
    "\n",
    "Dimension of the data set; 7197 rows and 16 columns\" </p>\n",
    "    "
   ]
  },
  {
   "cell_type": "markdown",
   "metadata": {},
   "source": [
    "<a id='Import'></a>\n",
    "## Importing Libraries"
   ]
  },
  {
   "cell_type": "code",
   "execution_count": 94,
   "metadata": {},
   "outputs": [],
   "source": [
    "import pandas as pd\n",
    "import numpy as np\n",
    "import matplotlib as mpl\n",
    "import matplotlib.pyplot as plt\n",
    "\n",
    "from sklearn.preprocessing import scale\n",
    "from sklearn.metrics import mean_squared_error, r2_score\n",
    "from sklearn.cross_validation import train_test_split\n",
    "from sklearn.linear_model import LinearRegression, Lasso\n",
    "from sklearn.feature_selection import SelectKBest, SelectPercentile, f_regression\n",
    "from sklearn.model_selection import KFold\n",
    "from sklearn.tree import DecisionTreeRegressor, DecisionTreeClassifier, export_graphviz\n",
    "from sklearn.ensemble import RandomForestRegressor, GradientBoostingRegressor, RandomForestClassifier, GradientBoostingClassifier\n",
    "from sklearn.metrics import confusion_matrix, mean_squared_error, precision_recall_fscore_support, accuracy_score\n",
    "\n"
   ]
  },
  {
   "cell_type": "markdown",
   "metadata": {},
   "source": [
    "<a id='Data'></a>\n",
    "## Exploring the data\n",
    "\n",
    "\n",
    "<p> I will be using a dataset containing statistics from Apple's iOS store. </p>\n",
    "<br> Link: [Apple app store data set](https://www.kaggle.com/ramamet4/app-store-apple-data-set-10k-apps/version/5)\n",
    "\n",
    "There are 16 features contained in the appleStore.csv: \n",
    "    \n",
    "       1.  \"id\" : App ID\n",
    "\n",
    "       2. \"track_name\": App Name\n",
    "\n",
    "       3. \"size_bytes\": Size (in Bytes)\n",
    "\n",
    "       4. \"currency\": Currency Type\n",
    "\n",
    "       5. \"price\": Price amount\n",
    "\n",
    "       6. \"rating_count_tot\": User Rating counts (for all version)\n",
    "\n",
    "       7. \"rating_count_ver\": User Rating counts (for current version)\n",
    "\n",
    "       8. \"user_rating\" : Average User Rating value (for all version)\n",
    "\n",
    "       9. \"user_rating_ver\": Average User Rating value (for current version)\n",
    "\n",
    "       10. \"ver\" : Latest version code\n",
    "\n",
    "       11. \"cont_rating\": Content Rating\n",
    "\n",
    "       12. \"prime_genre\": Primary Genre\n",
    "\n",
    "       13. \"sup_devices.num\": Number of supporting devices\n",
    "\n",
    "       14. \"ipadSc_urls.num\": Number of screenshots showed for display\n",
    "\n",
    "       15. \"lang.num\": Number of supported languages\n",
    "\n",
    "       16. \"vpp_lic\": Vpp Device Based Licensing Enabled"
   ]
  },
  {
   "cell_type": "markdown",
   "metadata": {},
   "source": [
    "<a id='Loading'></a>\n",
    "### Loading and summarizing the dataset"
   ]
  },
  {
   "cell_type": "code",
   "execution_count": 95,
   "metadata": {},
   "outputs": [
    {
     "name": "stdout",
     "output_type": "stream",
     "text": [
      "                                                  track_name  size_bytes  \\\n",
      "id                                                                         \n",
      "281656475                                    PAC-MAN Premium   100788224   \n",
      "281796108                          Evernote - stay organized   158578688   \n",
      "281940292    WeatherBug - Local Weather, Radar, Maps, Alerts   100524032   \n",
      "282614216  eBay: Best App to Buy, Sell, Save! Online Shop...   128512000   \n",
      "282935706                                              Bible    92774400   \n",
      "\n",
      "          currency  price  rating_count_tot  rating_count_ver  user_rating  \\\n",
      "id                                                                           \n",
      "281656475      USD   3.99             21292                26          4.0   \n",
      "281796108      USD   0.00            161065                26          4.0   \n",
      "281940292      USD   0.00            188583              2822          3.5   \n",
      "282614216      USD   0.00            262241               649          4.0   \n",
      "282935706      USD   0.00            985920              5320          4.5   \n",
      "\n",
      "           user_rating_ver     ver cont_rating   prime_genre  sup_devices.num  \\\n",
      "id                                                                              \n",
      "281656475              4.5   6.3.5          4+         Games               38   \n",
      "281796108              3.5   8.2.2          4+  Productivity               37   \n",
      "281940292              4.5   5.0.0          4+       Weather               37   \n",
      "282614216              4.5  5.10.0         12+      Shopping               37   \n",
      "282935706              5.0   7.5.1          4+     Reference               37   \n",
      "\n",
      "           ipadSc_urls.num  lang.num  vpp_lic  game_enab  \n",
      "id                                                        \n",
      "281656475                5        10        1          0  \n",
      "281796108                5        23        1          0  \n",
      "281940292                5         3        1          0  \n",
      "282614216                5         9        1          0  \n",
      "282935706                5        45        1          0  \n"
     ]
    }
   ],
   "source": [
    "df = pd.read_csv('AppleStore.csv', index_col=0).dropna()\n",
    "print(df.head())"
   ]
  },
  {
   "cell_type": "markdown",
   "metadata": {},
   "source": [
    "<a id='Describe'></a>\n",
    "### Count, mean, standard deviation, minimum, 25 50 75 percentiles, and maximum"
   ]
  },
  {
   "cell_type": "code",
   "execution_count": 64,
   "metadata": {},
   "outputs": [
    {
     "name": "stdout",
     "output_type": "stream",
     "text": [
      "         size_bytes        price  rating_count_tot  rating_count_ver  \\\n",
      "count  7.197000e+03  7197.000000      7.197000e+03       7197.000000   \n",
      "mean   1.991345e+08     1.726218      1.289291e+04        460.373906   \n",
      "std    3.592069e+08     5.833006      7.573941e+04       3920.455183   \n",
      "min    5.898240e+05     0.000000      0.000000e+00          0.000000   \n",
      "25%    4.692275e+07     0.000000      2.800000e+01          1.000000   \n",
      "50%    9.715302e+07     0.000000      3.000000e+02         23.000000   \n",
      "75%    1.819249e+08     1.990000      2.793000e+03        140.000000   \n",
      "max    4.025970e+09   299.990000      2.974676e+06     177050.000000   \n",
      "\n",
      "       user_rating  user_rating_ver  sup_devices.num  ipadSc_urls.num  \\\n",
      "count  7197.000000      7197.000000      7197.000000      7197.000000   \n",
      "mean      3.526956         3.253578        37.361817         3.707100   \n",
      "std       1.517948         1.809363         3.737715         1.986005   \n",
      "min       0.000000         0.000000         9.000000         0.000000   \n",
      "25%       3.500000         2.500000        37.000000         3.000000   \n",
      "50%       4.000000         4.000000        37.000000         5.000000   \n",
      "75%       4.500000         4.500000        38.000000         5.000000   \n",
      "max       5.000000         5.000000        47.000000         5.000000   \n",
      "\n",
      "          lang.num      vpp_lic  game_enab  \n",
      "count  7197.000000  7197.000000     7197.0  \n",
      "mean      5.434903     0.993053        0.0  \n",
      "std       7.919593     0.083066        0.0  \n",
      "min       0.000000     0.000000        0.0  \n",
      "25%       1.000000     1.000000        0.0  \n",
      "50%       1.000000     1.000000        0.0  \n",
      "75%       8.000000     1.000000        0.0  \n",
      "max      75.000000     1.000000        0.0  \n"
     ]
    }
   ],
   "source": [
    "print(df.describe())"
   ]
  },
  {
   "cell_type": "markdown",
   "metadata": {},
   "source": [
    "<a id='Sets'></a>\n",
    "### Test and training sets"
   ]
  },
  {
   "cell_type": "code",
   "execution_count": 120,
   "metadata": {},
   "outputs": [],
   "source": [
    "X = df.drop(['price'], axis=1)\n",
    "\n",
    "X = pd.get_dummies(X)\n",
    "\n",
    "Y = df['price']\n",
    "\n",
    "df_size = (int)(len(df)/2)\n",
    "X_train = X[0:df_size]\n",
    "X_test = X[df_size:]\n",
    "\n",
    "Y_train = Y[0:df_size]\n",
    "Y_test = Y[df_size:]"
   ]
  },
  {
   "cell_type": "markdown",
   "metadata": {},
   "source": [
    "<a id='Regression'></a>\n",
    "## Regression"
   ]
  },
  {
   "cell_type": "markdown",
   "metadata": {},
   "source": [
    "<a id='Univariate'></a>\n",
    "### Univariate"
   ]
  },
  {
   "cell_type": "code",
   "execution_count": 121,
   "metadata": {},
   "outputs": [
    {
     "data": {
      "image/png": "[encoded data removed]",
      "text/plain": [
       "<Figure size 432x288 with 1 Axes>"
      ]
     },
     "metadata": {},
     "output_type": "display_data"
    },
    {
     "data": {
      "image/png": "[encoded data removed]",
      "text/plain": [
       "<Figure size 432x288 with 1 Axes>"
      ]
     },
     "metadata": {},
     "output_type": "display_data"
    },
    {
     "name": "stdout",
     "output_type": "stream",
     "text": [
      "Intercept:  1.7311413328659\n",
      "Coefficient:  [0.10541578]\n"
     ]
    }
   ],
   "source": [
    "linmod = LinearRegression()\n",
    "\n",
    "XLinear = df[['user_rating']]\n",
    "XLinear_train = XLinear[0:df_size]\n",
    "XLinear_test = XLinear[df_size:]\n",
    "\n",
    "fittedMod = linmod.fit(XLinear_train, Y_train)\n",
    "\n",
    "\n",
    "preds = fittedMod.predict(XLinear_train)\n",
    "\n",
    "\n",
    "plt.scatter(XLinear_train, Y_train,color='g')\n",
    "plt.xlabel(\"User ratings\")\n",
    "plt.ylabel(\"Price\")\n",
    "\n",
    "plt.plot(XLinear_train, preds,color='k')\n",
    "plt.show()\n",
    "\n",
    "\n",
    "plt.scatter(XLinear_train, Y_train,color='g')\n",
    "plt.xlim(0, 5.0)\n",
    "plt.ylim(0, 20.0)\n",
    "plt.xlabel(\"User ratings\")\n",
    "plt.ylabel(\"Price\")\n",
    "\n",
    "plt.plot(XLinear_train, preds,color='k')\n",
    "plt.show()\n",
    "\n",
    "print (\"Intercept: \", fittedMod.intercept_)\n",
    "print (\"Coefficient: \", fittedMod.coef_)"
   ]
  },
  {
   "cell_type": "markdown",
   "metadata": {},
   "source": [
    "According to the linear regression plot above, we can see that the price of the apps doesn't really increase depending on the user ratings.\n",
    "In fact, the highest priced app, at $300, is rated 4/5.\n",
    "Zooming in on the plot where the x axis is from the range 0 to 5, and the y values are from 0 to 20, we can see that the regression line starts at 1.73 when the x value is zero and has a small positive slope (0.105)."
   ]
  },
  {
   "cell_type": "markdown",
   "metadata": {},
   "source": [
    "<a id='Multivariate'></a>\n",
    "### Multivariate"
   ]
  },
  {
   "cell_type": "code",
   "execution_count": 144,
   "metadata": {},
   "outputs": [
    {
     "name": "stdout",
     "output_type": "stream",
     "text": [
      "training MSE: 58.0875352693976\n",
      "\n",
      "\n",
      "Here are the coefficients of the model: \n",
      "size_bytes 3.420762576679527e-09\n",
      "rating_count_tot -3.2888130068103993e-06\n",
      "rating_count_ver -1.7064068915581268e-05\n",
      "user_rating 0.2479520229600363\n",
      "user_rating_ver -0.2185145673885587\n",
      "sup_devices.num -0.13580958038415206\n",
      "ipadSc_urls.num 0.14922624389819722\n",
      "lang.num -0.021751997787293188\n",
      "vpp_lic -1.3792311080486996\n",
      "game_enab -5.551115123125783e-17\n",
      "currency_USD 4.440892098500626e-16\n",
      "cont_rating_12+ -0.1804616308752337\n",
      "cont_rating_17+ -0.7845827430786761\n",
      "cont_rating_4+ 0.6566921582818537\n",
      "cont_rating_9+ 0.3083522156720559\n"
     ]
    },
    {
     "data": {
      "image/png": "[encoded data removed]",
      "text/plain": [
       "<Figure size 432x288 with 1 Axes>"
      ]
     },
     "metadata": {},
     "output_type": "display_data"
    }
   ],
   "source": [
    "XMulti = df.drop(['price', 'track_name', 'ver', 'prime_genre'], axis=1)\n",
    "XMulti = pd.get_dummies(XMulti)\n",
    "\n",
    "XMulti_train = XMulti[0:df_size]\n",
    "XMulti_test = XMulti[df_size:]\n",
    "\n",
    "linmod = LinearRegression()\n",
    "\n",
    "linmod.fit(XMulti_train, Y_train)\n",
    "\n",
    "trainPreds = linmod.predict(XMulti_train)\n",
    "train_mse = mean_squared_error(Y_train, trainPreds)\n",
    "print('training MSE: %s\\n\\n' % train_mse)\n",
    "\n",
    "coefs = linmod.coef_\n",
    "\n",
    "print(\"Here are the coefficients of the model: \")\n",
    "for i in range(len(coefs)):\n",
    "    print(XMulti.columns[i], coefs[i])\n",
    "    \n",
    "testPreds = linmod.predict(XMulti_test)\n",
    "plt.scatter(Y_test, testPreds,color='g')\n",
    "plt.xlabel(\"Actual Y Value\")\n",
    "plt.ylabel(\"Predicted Y Value\")\n",
    "plt.show()"
   ]
  },
  {
   "cell_type": "markdown",
   "metadata": {},
   "source": [
    "The coefficients of the model reveal that the increase or decrease in price changes for every unit increase of the feature multiplied by the coefficient."
   ]
  },
  {
   "cell_type": "code",
   "execution_count": 145,
   "metadata": {},
   "outputs": [
    {
     "name": "stdout",
     "output_type": "stream",
     "text": [
      "R-Squared value using the multivariate model on training data:  0.036535225978117536\n",
      "MSE using the multivariate model on train data:  58.0875352693976\n",
      "MSE using the multivariate model on test data:  7.296470346227767\n"
     ]
    }
   ],
   "source": [
    "\n",
    "rs = r2_score(Y_train, trainPreds)\n",
    "print (\"R-Squared value using the multivariate model on training data: \", rs)\n",
    "\n",
    "\n",
    "train_mse = mean_squared_error(Y_train, trainPreds)\n",
    "print(\"MSE using the multivariate model on train data: \", train_mse)\n",
    "test_mse = mean_squared_error(Y_test, testPreds)\n",
    "print(\"MSE using the multivariate model on test data: \", test_mse)\n"
   ]
  },
  {
   "cell_type": "markdown",
   "metadata": {},
   "source": [
    "When using multiple predictors, we can see the plot where we compare our predicted price vs the actual price. \n",
    "From the plot, it looks like our predictions aren't good -- for example, the actual y value of 10 has a  predicted y value of  ~1 to ~17.5, but there isn't a data point on 10 for our predicted Y value. Another data point where the actual Y value is 50, but our predicted Y value is 2.5.\n",
    "Our R-squared value reveals that our model explains nearly none of the variability of the response data around its mean; so our model doesn't fit our data so well.\n",
    "However, our MSE reveals that we have do not have an overfitting and do not have an underfitting since the MSE for our training data is lower than the MSE for our test data."
   ]
  },
  {
   "cell_type": "markdown",
   "metadata": {},
   "source": [
    "<a id='Feature'></a>\n",
    "## Feature selection"
   ]
  },
  {
   "cell_type": "markdown",
   "metadata": {},
   "source": [
    "So lets cut out some features and perform features subset selection to improve our model."
   ]
  },
  {
   "cell_type": "markdown",
   "metadata": {},
   "source": [
    "<a id='Subset'></a>\n",
    "### Feature Subset Selection"
   ]
  },
  {
   "cell_type": "code",
   "execution_count": 153,
   "metadata": {},
   "outputs": [
    {
     "name": "stdout",
     "output_type": "stream",
     "text": [
      "These are the features that were selected:\n",
      "\n",
      "['size_bytes' 'rating_count_tot' 'prime_genre' 'sup_devices.num'\n",
      " 'ipadSc_urls.num' 'lang.num']\n"
     ]
    },
    {
     "name": "stderr",
     "output_type": "stream",
     "text": [
      "C:\\Users\\Henry\\Anaconda3\\lib\\site-packages\\sklearn\\feature_selection\\univariate_selection.py:298: RuntimeWarning: invalid value encountered in true_divide\n",
      "  corr /= X_norms\n",
      "C:\\Users\\Henry\\Anaconda3\\lib\\site-packages\\scipy\\stats\\_distn_infrastructure.py:879: RuntimeWarning: invalid value encountered in greater\n",
      "  return (self.a < x) & (x < self.b)\n",
      "C:\\Users\\Henry\\Anaconda3\\lib\\site-packages\\scipy\\stats\\_distn_infrastructure.py:879: RuntimeWarning: invalid value encountered in less\n",
      "  return (self.a < x) & (x < self.b)\n",
      "C:\\Users\\Henry\\Anaconda3\\lib\\site-packages\\scipy\\stats\\_distn_infrastructure.py:1821: RuntimeWarning: invalid value encountered in less_equal\n",
      "  cond2 = cond0 & (x <= self.a)\n"
     ]
    }
   ],
   "source": [
    "X = df.drop(['price', 'track_name', 'ver'], axis=1)\n",
    "Y = df['price']\n",
    "\n",
    "X_train = X[0:df_size]\n",
    "X_test = X[df_size:]\n",
    "\n",
    "\n",
    "df.prime_genre = pd.factorize(df.prime_genre)[0]\n",
    "df.cont_rating = pd.factorize(df.cont_rating)[0]\n",
    "df.currency = pd.factorize(df.currency)[0]\n",
    "\n",
    "\n",
    "selector = SelectPercentile(f_regression, percentile=50)\n",
    "selector.fit_transform(X_train, Y_train)\n",
    "selected_cols = selector.get_support()\n",
    "selected_feas = X_train.columns.values[selected_cols]\n",
    "print(\"These are the features that were selected:\\n\")\n",
    "print(selected_feas)"
   ]
  },
  {
   "cell_type": "markdown",
   "metadata": {},
   "source": [
    "We keep track_name and ver dropped since they aren't very useful, only for indexing or description purposes. \n",
    "We factorize prime_genre, cont_rating, and currency since they're continuous variables. Carrying out feature subset selection and using 50 as the percentile, the features that were selected are the size of the app, the total rating counts, the genre of the app, the number of devices the app can support, the number of screenshots it provides (the preview screenshots when you check out an app), and the number of languages the app supports. We'll try and carry on with our linear regression and see if the model improves."
   ]
  },
  {
   "cell_type": "code",
   "execution_count": 158,
   "metadata": {},
   "outputs": [
    {
     "data": {
      "image/png": "[encoded data removed]",
      "text/plain": [
       "<Figure size 432x288 with 1 Axes>"
      ]
     },
     "metadata": {},
     "output_type": "display_data"
    },
    {
     "name": "stdout",
     "output_type": "stream",
     "text": [
      "R-Squared value using 50%% of the features:  0.07290458135282318\n",
      "The MSE using 50% of the features, and a linear regresion on the selected features is 6.882012913496914\n"
     ]
    }
   ],
   "source": [
    "X_sub_train = X_train[selected_feas]\n",
    "\n",
    "X_sub_test = X_test[selected_feas] \n",
    "\n",
    "lm_sub = LinearRegression()\n",
    "lm_sub.fit(X_sub_train, Y_train)\n",
    "preds_sub = lm_sub.predict(X_sub_test)\n",
    "\n",
    "plt.figure()\n",
    "plt.scatter(Y_test, preds_sub)\n",
    "plt.show()\n",
    "\n",
    "rs = r2_score(Y_test, preds_sub)\n",
    "print (\"R-Squared value using 50%% of the features: \", rs)\n",
    "mse_sub = mean_squared_error(Y_test, preds_sub)\n",
    "print(\"The MSE using 50%% of the features, and a linear regresion on the selected features is %s\" % mse_sub)"
   ]
  },
  {
   "cell_type": "markdown",
   "metadata": {},
   "source": [
    "It first look, the scatterplot shows that our model hasn't improved and that there is a huge variance between our predicted Y values and the actual Y values. However, there is a slight improvement in the R-squared value and a lower MSE, but not enough to say that the model fits the data."
   ]
  },
  {
   "cell_type": "markdown",
   "metadata": {},
   "source": [
    "<a id='Lasso'></a>\n",
    "### Lasso as regularization"
   ]
  },
  {
   "cell_type": "code",
   "execution_count": 162,
   "metadata": {},
   "outputs": [
    {
     "data": {
      "image/png": "[encoded data removed]",
      "text/plain": [
       "<Figure size 432x288 with 1 Axes>"
      ]
     },
     "metadata": {},
     "output_type": "display_data"
    },
    {
     "name": "stdout",
     "output_type": "stream",
     "text": [
      "The MSE using cross validation and the Lasso on the entire dataset is 32.6253380431948\n"
     ]
    }
   ],
   "source": [
    "kf = KFold(n_splits=10)\n",
    "\n",
    "preds_cv = []\n",
    "\n",
    "for train, test in kf.split(X):\n",
    "    X_cv = X.iloc[train]\n",
    "    Y_cv = Y.iloc[train]\n",
    "    \n",
    "    X_cv_test = X.iloc[test]\n",
    "    \n",
    "    lm_cv = Lasso(max_iter=5000, tol=0.001)\n",
    "    lm_cv.fit(X_cv, Y_cv)\n",
    "    preds = lm_cv.predict(X_cv_test)\n",
    "    preds_cv += list(preds)\n",
    "\n",
    "plt.figure()\n",
    "plt.scatter(preds_cv, Y)\n",
    "plt.show()\n",
    "mse_cv = mean_squared_error(Y,preds_cv)\n",
    "print(\"The MSE using cross validation and the Lasso on the entire dataset is %s\" % mse_cv)"
   ]
  },
  {
   "cell_type": "markdown",
   "metadata": {},
   "source": [
    "Performing 10 fold cross validation and Lasso changed the plot considerably and shows an increased MSE."
   ]
  },
  {
   "cell_type": "markdown",
   "metadata": {},
   "source": [
    "<a id='Conclusion'></a>\n",
    "## Conclusion"
   ]
  },
  {
   "cell_type": "markdown",
   "metadata": {},
   "source": [
    "To conclude, I thought this would be mostly be similar to labs in which our models tend to fit and so representations are easier to analyze. The idea was to find general statistics, such as predicting the price of apps based on user ratings, but as I worked through models, the more interesting findsings were trying to fit the model to the data. The data contained lots of strings and continuous variables so workarounds took more time. The project focused on regression rather than classification and our evaluation metrics were MSE and R-squared since we were dealing with regression. "
   ]
  },
  {
   "cell_type": "code",
   "execution_count": 166,
   "metadata": {},
   "outputs": [
    {
     "data": {
      "image/png": "[encoded data removed]",
      "text/plain": [
       "<Figure size 432x288 with 1 Axes>"
      ]
     },
     "metadata": {},
     "output_type": "display_data"
    }
   ],
   "source": [
    "regr = GradientBoostingRegressor(n_estimators=500, learning_rate=0.01, max_depth=20, random_state=1)\n",
    "regr.fit(X_train, Y_train)\n",
    "\n",
    "feature_importance = regr.feature_importances_*100\n",
    "rel_imp = pd.Series(feature_importance, index=X.columns).sort_values(inplace=False)\n",
    "rel_imp.T.plot(kind='barh', color='r', )\n",
    "plt.xlabel('Variable Importance')\n",
    "plt.gca().legend_ = None"
   ]
  },
  {
   "cell_type": "markdown",
   "metadata": {},
   "source": [
    "Performing gradient boosting regression shows that the size of the app played a more signicant role than I expected (I expected user rating to play as the major factor of pricing an app). "
   ]
  },
  {
   "cell_type": "code",
   "execution_count": 168,
   "metadata": {},
   "outputs": [
    {
     "name": "stdout",
     "output_type": "stream",
     "text": [
      "Coefficients of the model: \n",
      "size_bytes 3.420762576679527e-09\n",
      "rating_count_tot -3.2888130068103993e-06\n",
      "rating_count_ver -1.7064068915581268e-05\n",
      "user_rating 0.2479520229600363\n",
      "user_rating_ver -0.2185145673885587\n",
      "sup_devices.num -0.13580958038415206\n",
      "ipadSc_urls.num 0.14922624389819722\n",
      "lang.num -0.021751997787293188\n",
      "vpp_lic -1.3792311080486996\n",
      "game_enab -5.551115123125783e-17\n",
      "currency_USD 4.440892098500626e-16\n",
      "cont_rating_12+ -0.1804616308752337\n",
      "cont_rating_17+ -0.7845827430786761\n",
      "cont_rating_4+ 0.6566921582818537\n",
      "cont_rating_9+ 0.3083522156720559\n"
     ]
    }
   ],
   "source": [
    "print(\"Coefficients of the model: \")\n",
    "for i in range(len(coefs)):\n",
    "    print(XMulti.columns[i], coefs[i])"
   ]
  },
  {
   "cell_type": "markdown",
   "metadata": {},
   "source": [
    "As for the prediction of the app price, we can see user rating and cont_rating_4+ has the highest coefficients, but considering size_bytes's slope increases by the bytes, it would make a larger impact for every unit increased. So to conclude, size_bytes ended up being the strongest predictor to the price of apps in the Apple iOS store."
   ]
  }
 ],
 "metadata": {
  "kernelspec": {
   "display_name": "Python 3",
   "language": "python",
   "name": "python3"
  },
  "language_info": {
   "codemirror_mode": {
    "name": "ipython",
    "version": 3
   },
   "file_extension": ".py",
   "mimetype": "text/x-python",
   "name": "python",
   "nbconvert_exporter": "python",
   "pygments_lexer": "ipython3",
   "version": "3.6.5"
  }
 },
 "nbformat": 4,
 "nbformat_minor": 2
}
